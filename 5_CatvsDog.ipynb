{
 "cells": [
  {
   "cell_type": "code",
   "execution_count": 1,
   "metadata": {},
   "outputs": [],
   "source": [
    "import os\n",
    "\n",
    "from tensorflow.keras import layers\n",
    "from tensorflow.keras import Model"
   ]
  },
  {
   "cell_type": "code",
   "execution_count": 2,
   "metadata": {},
   "outputs": [],
   "source": [
    "# !wget --no-check-certificate \\\n",
    "#     https://storage.googleapis.com/mledu-datasets/inception_v3_weights_tf_dim_ordering_tf_kernels_notop.h5 \\\n",
    "#     -O /tmp/inception_v3_weights_tf_dim_ordering_tf_kernels_notop.h5"
   ]
  },
  {
   "cell_type": "code",
   "execution_count": 3,
   "metadata": {},
   "outputs": [
    {
     "name": "stdout",
     "output_type": "stream",
     "text": [
      "WARNING:tensorflow:From /anaconda3/envs/tensorflow/lib/python3.5/site-packages/tensorflow/python/ops/resource_variable_ops.py:435: colocate_with (from tensorflow.python.framework.ops) is deprecated and will be removed in a future version.\n",
      "Instructions for updating:\n",
      "Colocations handled automatically by placer.\n"
     ]
    }
   ],
   "source": [
    "from tensorflow.keras.applications.inception_v3 import InceptionV3\n",
    "\n",
    "local_weights_file = '/Users/cuitianyu/.keras/models/inception_v3_weights_tf_dim_ordering_tf_kernels_notop.h5'\n",
    "pre_trained_model = InceptionV3(\n",
    "    input_shape=(150, 150, 3), include_top=False, weights=None)\n",
    "pre_trained_model.load_weights(local_weights_file)"
   ]
  },
  {
   "cell_type": "code",
   "execution_count": 4,
   "metadata": {},
   "outputs": [],
   "source": [
    "for layer in pre_trained_model.layers:\n",
    "    layer.trainable = False"
   ]
  },
  {
   "cell_type": "code",
   "execution_count": 5,
   "metadata": {},
   "outputs": [
    {
     "name": "stdout",
     "output_type": "stream",
     "text": [
      "last layer output shape: (None, 7, 7, 768)\n"
     ]
    }
   ],
   "source": [
    "last_layer = pre_trained_model.get_layer('mixed7')\n",
    "print('last layer output shape:', last_layer.output_shape)\n",
    "last_output = last_layer.output"
   ]
  },
  {
   "cell_type": "code",
   "execution_count": 6,
   "metadata": {},
   "outputs": [
    {
     "name": "stdout",
     "output_type": "stream",
     "text": [
      "WARNING:tensorflow:From /anaconda3/envs/tensorflow/lib/python3.5/site-packages/tensorflow/python/keras/layers/core.py:143: calling dropout (from tensorflow.python.ops.nn_ops) with keep_prob is deprecated and will be removed in a future version.\n",
      "Instructions for updating:\n",
      "Please use `rate` instead of `keep_prob`. Rate should be set to `rate = 1 - keep_prob`.\n"
     ]
    }
   ],
   "source": [
    "from tensorflow.keras.optimizers import RMSprop\n",
    "\n",
    "# Flatten the output layer to 1 dimension\n",
    "x = layers.Flatten()(last_output)\n",
    "# Add a fully connected layer with 1,024 hidden units and ReLU activation\n",
    "x = layers.Dense(1024, activation='relu')(x)\n",
    "# Add a dropout rate of 0.2\n",
    "x = layers.Dropout(0.2)(x)\n",
    "# Add a final sigmoid layer for classification\n",
    "x = layers.Dense(1, activation='sigmoid')(x)\n",
    "\n",
    "# Configure and compile the model\n",
    "model = Model(pre_trained_model.input, x)\n",
    "model.compile(loss='binary_crossentropy',\n",
    "              optimizer=RMSprop(lr=0.0001),\n",
    "              metrics=['acc'])"
   ]
  },
  {
   "cell_type": "code",
   "execution_count": 7,
   "metadata": {},
   "outputs": [],
   "source": [
    "# !wget --no-check-certificate \\\n",
    "#    https://storage.googleapis.com/mledu-datasets/cats_and_dogs_filtered.zip -O \\\n",
    "#    /tmp/cats_and_dogs_filtered.zip"
   ]
  },
  {
   "cell_type": "code",
   "execution_count": 8,
   "metadata": {},
   "outputs": [
    {
     "name": "stdout",
     "output_type": "stream",
     "text": [
      "Found 2000 images belonging to 2 classes.\n",
      "Found 1000 images belonging to 2 classes.\n"
     ]
    }
   ],
   "source": [
    "import os\n",
    "import zipfile\n",
    "\n",
    "from tensorflow.keras.preprocessing.image import ImageDataGenerator\n",
    "\n",
    "local_zip = './dataset/cats_and_dogs_filtered.zip'\n",
    "zip_ref = zipfile.ZipFile(local_zip, 'r')\n",
    "zip_ref.extractall('./dataset')\n",
    "zip_ref.close()\n",
    "\n",
    "# Define our example directories and files\n",
    "base_dir = './dataset/cats_and_dogs_filtered'\n",
    "train_dir = os.path.join(base_dir, 'train')\n",
    "validation_dir = os.path.join(base_dir, 'validation')\n",
    "\n",
    "# Directory with our training cat pictures\n",
    "train_cats_dir = os.path.join(train_dir, 'cats')\n",
    "\n",
    "# Directory with our training dog pictures\n",
    "train_dogs_dir = os.path.join(train_dir, 'dogs')\n",
    "\n",
    "# Directory with our validation cat pictures\n",
    "validation_cats_dir = os.path.join(validation_dir, 'cats')\n",
    "\n",
    "# Directory with our validation dog pictures\n",
    "validation_dogs_dir = os.path.join(validation_dir, 'dogs')\n",
    "\n",
    "train_cat_fnames = os.listdir(train_cats_dir)\n",
    "train_dog_fnames = os.listdir(train_dogs_dir)\n",
    "\n",
    "# Add our data-augmentation parameters to ImageDataGenerator\n",
    "train_datagen = ImageDataGenerator(\n",
    "    rescale=1./255,\n",
    "    rotation_range=40,\n",
    "    width_shift_range=0.2,\n",
    "    height_shift_range=0.2,\n",
    "    shear_range=0.2,\n",
    "    zoom_range=0.2,\n",
    "    horizontal_flip=True)\n",
    "\n",
    "# Note that the validation data should not be augmented!\n",
    "test_datagen = ImageDataGenerator(rescale=1./255)\n",
    "\n",
    "train_generator = train_datagen.flow_from_directory(\n",
    "        train_dir, # This is the source directory for training images\n",
    "        target_size=(150, 150),  # All images will be resized to 150x150\n",
    "        batch_size=20,\n",
    "        # Since we use binary_crossentropy loss, we need binary labels\n",
    "        class_mode='binary')\n",
    "\n",
    "# Flow validation images in batches of 20 using test_datagen generator\n",
    "validation_generator = test_datagen.flow_from_directory(\n",
    "        validation_dir,\n",
    "        target_size=(150, 150),\n",
    "        batch_size=20,\n",
    "        class_mode='binary')"
   ]
  },
  {
   "cell_type": "code",
   "execution_count": 9,
   "metadata": {},
   "outputs": [
    {
     "name": "stdout",
     "output_type": "stream",
     "text": [
      "WARNING:tensorflow:From /anaconda3/envs/tensorflow/lib/python3.5/site-packages/tensorflow/python/ops/math_ops.py:3066: to_int32 (from tensorflow.python.ops.math_ops) is deprecated and will be removed in a future version.\n",
      "Instructions for updating:\n",
      "Use tf.cast instead.\n",
      "Epoch 1/2\n",
      "50/50 [==============================] - 21s 424ms/step - loss: 0.4494 - acc: 0.8780\n",
      " - 110s - loss: 0.5160 - acc: 0.7615 - val_loss: 0.4494 - val_acc: 0.8780\n",
      "Epoch 2/2\n",
      "50/50 [==============================] - 21s 414ms/step - loss: 0.5285 - acc: 0.8770\n",
      " - 107s - loss: 0.3760 - acc: 0.8325 - val_loss: 0.5285 - val_acc: 0.8770\n"
     ]
    }
   ],
   "source": [
    "history = model.fit_generator(\n",
    "      train_generator,\n",
    "      steps_per_epoch=100,\n",
    "      epochs=2,\n",
    "      validation_data=validation_generator,\n",
    "      validation_steps=50,\n",
    "      verbose=2)"
   ]
  },
  {
   "cell_type": "code",
   "execution_count": 10,
   "metadata": {},
   "outputs": [],
   "source": [
    "from tensorflow.keras.optimizers import SGD\n",
    "\n",
    "unfreeze = False\n",
    "\n",
    "# Unfreeze all models after \"mixed6\"\n",
    "for layer in pre_trained_model.layers:\n",
    "    if unfreeze:\n",
    "        layer.trainable = True\n",
    "    if layer.name == 'mixed6':\n",
    "        unfreeze = True\n",
    "\n",
    "# As an optimizer, here we will use SGD \n",
    "# with a very low learning rate (0.00001)\n",
    "model.compile(loss='binary_crossentropy',\n",
    "              optimizer=SGD(\n",
    "                  lr=0.00001, \n",
    "                  momentum=0.9),\n",
    "              metrics=['acc'])"
   ]
  },
  {
   "cell_type": "code",
   "execution_count": 11,
   "metadata": {},
   "outputs": [
    {
     "name": "stdout",
     "output_type": "stream",
     "text": [
      "Epoch 1/50\n",
      "50/50 [==============================] - 21s 423ms/step - loss: 0.4072 - acc: 0.9100\n",
      " - 99s - loss: 0.4109 - acc: 0.7990 - val_loss: 0.4072 - val_acc: 0.9100\n",
      "Epoch 2/50\n",
      "50/50 [==============================] - 21s 410ms/step - loss: 0.3597 - acc: 0.9210\n",
      " - 97s - loss: 0.3229 - acc: 0.8615 - val_loss: 0.3597 - val_acc: 0.9210\n",
      "Epoch 3/50\n",
      "50/50 [==============================] - 21s 417ms/step - loss: 0.3369 - acc: 0.9240\n",
      " - 99s - loss: 0.2960 - acc: 0.8715 - val_loss: 0.3369 - val_acc: 0.9240\n",
      "Epoch 4/50\n",
      "50/50 [==============================] - 21s 417ms/step - loss: 0.3263 - acc: 0.9250\n",
      " - 98s - loss: 0.2935 - acc: 0.8630 - val_loss: 0.3263 - val_acc: 0.9250\n",
      "Epoch 5/50\n",
      "50/50 [==============================] - 21s 414ms/step - loss: 0.3251 - acc: 0.9260\n",
      " - 98s - loss: 0.2738 - acc: 0.8875 - val_loss: 0.3251 - val_acc: 0.9260\n",
      "Epoch 6/50\n",
      "50/50 [==============================] - 21s 421ms/step - loss: 0.3199 - acc: 0.9310\n",
      " - 99s - loss: 0.2791 - acc: 0.8795 - val_loss: 0.3199 - val_acc: 0.9310\n",
      "Epoch 7/50\n",
      "50/50 [==============================] - 21s 415ms/step - loss: 0.3221 - acc: 0.9290\n",
      " - 1403s - loss: 0.2887 - acc: 0.8710 - val_loss: 0.3221 - val_acc: 0.9290\n",
      "Epoch 8/50\n",
      "50/50 [==============================] - 21s 414ms/step - loss: 0.3161 - acc: 0.9330\n",
      " - 97s - loss: 0.2857 - acc: 0.8730 - val_loss: 0.3161 - val_acc: 0.9330\n",
      "Epoch 9/50\n",
      "50/50 [==============================] - 21s 414ms/step - loss: 0.3227 - acc: 0.9290\n",
      " - 97s - loss: 0.2809 - acc: 0.8720 - val_loss: 0.3227 - val_acc: 0.9290\n",
      "Epoch 10/50\n",
      "50/50 [==============================] - 21s 413ms/step - loss: 0.3197 - acc: 0.9330\n",
      " - 97s - loss: 0.2707 - acc: 0.8830 - val_loss: 0.3197 - val_acc: 0.9330\n",
      "Epoch 11/50\n",
      "50/50 [==============================] - 21s 413ms/step - loss: 0.3214 - acc: 0.9300\n",
      " - 97s - loss: 0.2833 - acc: 0.8690 - val_loss: 0.3214 - val_acc: 0.9300\n",
      "Epoch 12/50\n",
      "50/50 [==============================] - 21s 414ms/step - loss: 0.3268 - acc: 0.9280\n",
      " - 97s - loss: 0.2868 - acc: 0.8755 - val_loss: 0.3268 - val_acc: 0.9280\n",
      "Epoch 13/50\n",
      "50/50 [==============================] - 21s 416ms/step - loss: 0.3234 - acc: 0.9300\n",
      " - 97s - loss: 0.2908 - acc: 0.8760 - val_loss: 0.3234 - val_acc: 0.9300\n",
      "Epoch 14/50\n",
      "50/50 [==============================] - 21s 414ms/step - loss: 0.3217 - acc: 0.9300\n",
      " - 97s - loss: 0.2764 - acc: 0.8800 - val_loss: 0.3217 - val_acc: 0.9300\n",
      "Epoch 15/50\n",
      "50/50 [==============================] - 21s 412ms/step - loss: 0.3233 - acc: 0.9290\n",
      " - 97s - loss: 0.2795 - acc: 0.8770 - val_loss: 0.3233 - val_acc: 0.9290\n",
      "Epoch 16/50\n",
      "50/50 [==============================] - 21s 414ms/step - loss: 0.3273 - acc: 0.9260\n",
      " - 97s - loss: 0.2881 - acc: 0.8680 - val_loss: 0.3273 - val_acc: 0.9260\n",
      "Epoch 17/50\n",
      "50/50 [==============================] - 21s 414ms/step - loss: 0.3335 - acc: 0.9240\n",
      " - 97s - loss: 0.2816 - acc: 0.8820 - val_loss: 0.3335 - val_acc: 0.9240\n",
      "Epoch 18/50\n",
      "50/50 [==============================] - 21s 414ms/step - loss: 0.3305 - acc: 0.9250\n",
      " - 97s - loss: 0.2762 - acc: 0.8800 - val_loss: 0.3305 - val_acc: 0.9250\n",
      "Epoch 19/50\n",
      "50/50 [==============================] - 21s 414ms/step - loss: 0.3363 - acc: 0.9230\n",
      " - 98s - loss: 0.2855 - acc: 0.8770 - val_loss: 0.3363 - val_acc: 0.9230\n",
      "Epoch 20/50\n",
      "50/50 [==============================] - 21s 428ms/step - loss: 0.3353 - acc: 0.9230\n",
      " - 99s - loss: 0.2691 - acc: 0.8860 - val_loss: 0.3353 - val_acc: 0.9230\n",
      "Epoch 21/50\n",
      "50/50 [==============================] - 22s 431ms/step - loss: 0.3286 - acc: 0.9260\n",
      " - 101s - loss: 0.2757 - acc: 0.8760 - val_loss: 0.3286 - val_acc: 0.9260\n",
      "Epoch 22/50\n",
      "50/50 [==============================] - 22s 433ms/step - loss: 0.3296 - acc: 0.9250\n",
      " - 101s - loss: 0.2681 - acc: 0.8845 - val_loss: 0.3296 - val_acc: 0.9250\n",
      "Epoch 23/50\n",
      "50/50 [==============================] - 21s 428ms/step - loss: 0.3316 - acc: 0.9250\n",
      " - 101s - loss: 0.2823 - acc: 0.8735 - val_loss: 0.3316 - val_acc: 0.9250\n",
      "Epoch 24/50\n",
      "50/50 [==============================] - 21s 426ms/step - loss: 0.3327 - acc: 0.9260\n",
      " - 100s - loss: 0.2731 - acc: 0.8840 - val_loss: 0.3327 - val_acc: 0.9260\n",
      "Epoch 25/50\n",
      "50/50 [==============================] - 22s 430ms/step - loss: 0.3364 - acc: 0.9240\n",
      " - 101s - loss: 0.2799 - acc: 0.8860 - val_loss: 0.3364 - val_acc: 0.9240\n",
      "Epoch 26/50\n",
      "50/50 [==============================] - 21s 428ms/step - loss: 0.3355 - acc: 0.9240\n",
      " - 101s - loss: 0.2763 - acc: 0.8770 - val_loss: 0.3355 - val_acc: 0.9240\n",
      "Epoch 27/50\n",
      "50/50 [==============================] - 21s 429ms/step - loss: 0.3339 - acc: 0.9250\n",
      " - 101s - loss: 0.2491 - acc: 0.8950 - val_loss: 0.3339 - val_acc: 0.9250\n",
      "Epoch 28/50\n",
      "50/50 [==============================] - 21s 430ms/step - loss: 0.3354 - acc: 0.9250\n",
      " - 101s - loss: 0.2811 - acc: 0.8785 - val_loss: 0.3354 - val_acc: 0.9250\n",
      "Epoch 29/50\n",
      "50/50 [==============================] - 21s 422ms/step - loss: 0.3365 - acc: 0.9230\n",
      " - 100s - loss: 0.2680 - acc: 0.8845 - val_loss: 0.3365 - val_acc: 0.9230\n",
      "Epoch 30/50\n",
      "50/50 [==============================] - 21s 426ms/step - loss: 0.3334 - acc: 0.9240\n",
      " - 99s - loss: 0.2751 - acc: 0.8785 - val_loss: 0.3334 - val_acc: 0.9240\n",
      "Epoch 31/50\n",
      "50/50 [==============================] - 21s 421ms/step - loss: 0.3363 - acc: 0.9230\n",
      " - 99s - loss: 0.2774 - acc: 0.8725 - val_loss: 0.3363 - val_acc: 0.9230\n",
      "Epoch 32/50\n",
      "50/50 [==============================] - 21s 427ms/step - loss: 0.3316 - acc: 0.9260\n",
      " - 99s - loss: 0.2695 - acc: 0.8840 - val_loss: 0.3316 - val_acc: 0.9260\n",
      "Epoch 33/50\n",
      "50/50 [==============================] - 21s 421ms/step - loss: 0.3353 - acc: 0.9240\n",
      " - 99s - loss: 0.2744 - acc: 0.8865 - val_loss: 0.3353 - val_acc: 0.9240\n",
      "Epoch 34/50\n",
      "50/50 [==============================] - 21s 423ms/step - loss: 0.3365 - acc: 0.9240\n",
      " - 99s - loss: 0.2773 - acc: 0.8820 - val_loss: 0.3365 - val_acc: 0.9240\n",
      "Epoch 35/50\n",
      "50/50 [==============================] - 21s 423ms/step - loss: 0.3353 - acc: 0.9240\n",
      " - 99s - loss: 0.2756 - acc: 0.8800 - val_loss: 0.3353 - val_acc: 0.9240\n",
      "Epoch 36/50\n",
      "50/50 [==============================] - 21s 421ms/step - loss: 0.3372 - acc: 0.9240\n",
      " - 99s - loss: 0.2732 - acc: 0.8830 - val_loss: 0.3372 - val_acc: 0.9240\n",
      "Epoch 37/50\n",
      "50/50 [==============================] - 21s 422ms/step - loss: 0.3383 - acc: 0.9230\n",
      " - 99s - loss: 0.2740 - acc: 0.8835 - val_loss: 0.3383 - val_acc: 0.9230\n",
      "Epoch 38/50\n",
      "50/50 [==============================] - 21s 422ms/step - loss: 0.3342 - acc: 0.9240\n",
      " - 99s - loss: 0.2787 - acc: 0.8685 - val_loss: 0.3342 - val_acc: 0.9240\n",
      "Epoch 39/50\n",
      "50/50 [==============================] - 21s 423ms/step - loss: 0.3393 - acc: 0.9240\n",
      " - 99s - loss: 0.2754 - acc: 0.8750 - val_loss: 0.3393 - val_acc: 0.9240\n",
      "Epoch 40/50\n",
      "50/50 [==============================] - 21s 425ms/step - loss: 0.3415 - acc: 0.9240\n",
      " - 99s - loss: 0.2680 - acc: 0.8920 - val_loss: 0.3415 - val_acc: 0.9240\n",
      "Epoch 41/50\n",
      "50/50 [==============================] - 21s 425ms/step - loss: 0.3377 - acc: 0.9240\n",
      " - 99s - loss: 0.2752 - acc: 0.8765 - val_loss: 0.3377 - val_acc: 0.9240\n",
      "Epoch 42/50\n",
      "50/50 [==============================] - 21s 422ms/step - loss: 0.3384 - acc: 0.9240\n",
      " - 99s - loss: 0.2528 - acc: 0.8870 - val_loss: 0.3384 - val_acc: 0.9240\n",
      "Epoch 43/50\n",
      "50/50 [==============================] - 21s 425ms/step - loss: 0.3393 - acc: 0.9240\n",
      " - 99s - loss: 0.2608 - acc: 0.8830 - val_loss: 0.3393 - val_acc: 0.9240\n",
      "Epoch 44/50\n",
      "50/50 [==============================] - 21s 422ms/step - loss: 0.3358 - acc: 0.9240\n",
      " - 99s - loss: 0.2603 - acc: 0.8785 - val_loss: 0.3358 - val_acc: 0.9240\n",
      "Epoch 45/50\n",
      "50/50 [==============================] - 21s 429ms/step - loss: 0.3448 - acc: 0.9220\n",
      " - 99s - loss: 0.2821 - acc: 0.8705 - val_loss: 0.3448 - val_acc: 0.9220\n",
      "Epoch 46/50\n",
      "50/50 [==============================] - 21s 425ms/step - loss: 0.3465 - acc: 0.9230\n",
      " - 99s - loss: 0.2679 - acc: 0.8775 - val_loss: 0.3465 - val_acc: 0.9230\n",
      "Epoch 47/50\n",
      "50/50 [==============================] - 21s 422ms/step - loss: 0.3455 - acc: 0.9240\n",
      " - 99s - loss: 0.2742 - acc: 0.8775 - val_loss: 0.3455 - val_acc: 0.9240\n",
      "Epoch 48/50\n",
      "50/50 [==============================] - 22s 430ms/step - loss: 0.3427 - acc: 0.9240\n",
      " - 99s - loss: 0.2611 - acc: 0.8925 - val_loss: 0.3427 - val_acc: 0.9240\n",
      "Epoch 49/50\n"
     ]
    },
    {
     "name": "stdout",
     "output_type": "stream",
     "text": [
      "50/50 [==============================] - 21s 422ms/step - loss: 0.3428 - acc: 0.9240\n",
      " - 99s - loss: 0.2640 - acc: 0.8825 - val_loss: 0.3428 - val_acc: 0.9240\n",
      "Epoch 50/50\n",
      "50/50 [==============================] - 21s 422ms/step - loss: 0.3396 - acc: 0.9250\n",
      " - 99s - loss: 0.2528 - acc: 0.8905 - val_loss: 0.3396 - val_acc: 0.9250\n"
     ]
    }
   ],
   "source": [
    "history = model.fit_generator(\n",
    "      train_generator,\n",
    "      steps_per_epoch=100,\n",
    "      epochs=50,\n",
    "      validation_data=validation_generator,\n",
    "      validation_steps=50,\n",
    "      verbose=2)"
   ]
  },
  {
   "cell_type": "code",
   "execution_count": 12,
   "metadata": {},
   "outputs": [
    {
     "data": {
      "text/plain": [
       "Text(0.5, 1.0, 'Training and validation loss')"
      ]
     },
     "execution_count": 12,
     "metadata": {},
     "output_type": "execute_result"
    },
    {
     "data": {
      "image/png": "[encoded data removed]",
      "text/plain": [
       "<Figure size 432x288 with 1 Axes>"
      ]
     },
     "metadata": {
      "needs_background": "light"
     },
     "output_type": "display_data"
    },
    {
     "data": {
      "image/png": "[encoded data removed]",
      "text/plain": [
       "<Figure size 432x288 with 1 Axes>"
      ]
     },
     "metadata": {
      "needs_background": "light"
     },
     "output_type": "display_data"
    }
   ],
   "source": [
    "%matplotlib inline\n",
    "\n",
    "import matplotlib.pyplot as plt\n",
    "import matplotlib.image as mpimg\n",
    "\n",
    "# Retrieve a list of accuracy results on training and test data\n",
    "# sets for each training epoch\n",
    "acc = history.history['acc']\n",
    "val_acc = history.history['val_acc']\n",
    "\n",
    "# Retrieve a list of list results on training and test data\n",
    "# sets for each training epoch\n",
    "loss = history.history['loss']\n",
    "val_loss = history.history['val_loss']\n",
    "\n",
    "# Get number of epochs\n",
    "epochs = range(len(acc))\n",
    "\n",
    "# Plot training and validation accuracy per epoch\n",
    "plt.plot(epochs, acc)\n",
    "plt.plot(epochs, val_acc)\n",
    "plt.title('Training and validation accuracy')\n",
    "\n",
    "plt.figure()\n",
    "\n",
    "# Plot training and validation loss per epoch\n",
    "plt.plot(epochs, loss)\n",
    "plt.plot(epochs, val_loss)\n",
    "plt.title('Training and validation loss')"
   ]
  }
 ],
 "metadata": {
  "kernelspec": {
   "display_name": "tensorflow",
   "language": "python",
   "name": "tensorflow"
  },
  "language_info": {
   "codemirror_mode": {
    "name": "ipython",
    "version": 3
   },
   "file_extension": ".py",
   "mimetype": "text/x-python",
   "name": "python",
   "nbconvert_exporter": "python",
   "pygments_lexer": "ipython3",
   "version": "3.5.6"
  }
 },
 "nbformat": 4,
 "nbformat_minor": 2
}
